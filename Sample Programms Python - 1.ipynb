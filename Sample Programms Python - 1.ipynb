{
 "cells": [
  {
   "cell_type": "markdown",
   "metadata": {},
   "source": [
    "Write a program which will find all such numbers which are divisible by 7 but are not a multiple\n",
    "of 5, between 2000 and 3200 (both included). The numbers obtained should be printed in a\n",
    "comma-separated sequence on a single line."
   ]
  },
  {
   "cell_type": "code",
   "execution_count": 1,
   "metadata": {
    "scrolled": true
   },
   "outputs": [
    {
     "name": "stdout",
     "output_type": "stream",
     "text": [
      "[2002, 2009, 2023, 2030, 2037, 2044, 2058, 2065, 2072, 2079, 2093, 2100, 2107, 2114, 2128, 2135, 2142, 2149, 2163, 2170, 2177, 2184, 2198, 2205, 2212, 2219, 2233, 2240, 2247, 2254, 2268, 2275, 2282, 2289, 2303, 2310, 2317, 2324, 2338, 2345, 2352, 2359, 2373, 2380, 2387, 2394, 2408, 2415, 2422, 2429, 2443, 2450, 2457, 2464, 2478, 2485, 2492, 2499, 2513, 2520, 2527, 2534, 2548, 2555, 2562, 2569, 2583, 2590, 2597, 2604, 2618, 2625, 2632, 2639, 2653, 2660, 2667, 2674, 2688, 2695, 2702, 2709, 2723, 2730, 2737, 2744, 2758, 2765, 2772, 2779, 2793, 2800, 2807, 2814, 2828, 2835, 2842, 2849, 2863, 2870, 2877, 2884, 2898, 2905, 2912, 2919, 2933, 2940, 2947, 2954, 2968, 2975, 2982, 2989, 3003, 3010, 3017, 3024, 3038, 3045, 3052, 3059, 3073, 3080, 3087, 3094, 3108, 3115, 3122, 3129, 3143, 3150, 3157, 3164, 3178, 3185, 3192, 3199]"
     ]
    }
   ],
   "source": [
    "#num_list = []\n",
    "#for number in range(2000, 3201):\n",
    "#    if number % 7 == 0:\n",
    "#        if number % 5 != 0:\n",
    "#            num_list.append(number)\n",
    "#print(num_list)\n",
    "#print('')   \n",
    "#\n",
    "# OR\n",
    "\n",
    "a = [num for num in range(2000, 3201) if num % 7 == 0 if num % 5 != 1]\n",
    "print(a, end='')"
   ]
  },
  {
   "cell_type": "markdown",
   "metadata": {},
   "source": [
    "Write a Python program to accept the user's first and last name and then getting them printed in\n",
    "the the reverse order with a space between first name and last name."
   ]
  },
  {
   "cell_type": "code",
   "execution_count": 2,
   "metadata": {},
   "outputs": [
    {
     "name": "stdout",
     "output_type": "stream",
     "text": [
      "User's First Name:Prashant\n",
      "User's Last Name:Bande\n"
     ]
    },
    {
     "data": {
      "text/plain": [
       "'tnahsarP ednaB'"
      ]
     },
     "execution_count": 2,
     "metadata": {},
     "output_type": "execute_result"
    }
   ],
   "source": [
    "first = input(\"User's First Name:\")\n",
    "last = input(\"User's Last Name:\")\n",
    "first[::-1]+ ' ' + last[::-1]"
   ]
  },
  {
   "cell_type": "markdown",
   "metadata": {},
   "source": [
    "Write a Python program to find the volume of a sphere with diameter 12 cm.\n",
    "Formula: V=4/3 * π * r ** 3"
   ]
  },
  {
   "cell_type": "code",
   "execution_count": 3,
   "metadata": {},
   "outputs": [
    {
     "data": {
      "text/plain": [
       "7238.229473870882"
      ]
     },
     "execution_count": 3,
     "metadata": {},
     "output_type": "execute_result"
    }
   ],
   "source": [
    "import math\n",
    "V = 4 / 3 * math.pi * 12 ** 3\n",
    "V"
   ]
  },
  {
   "cell_type": "markdown",
   "metadata": {},
   "source": [
    "Write a program which accepts a sequence of comma-separated numbers from console and\n",
    "generate a list."
   ]
  },
  {
   "cell_type": "code",
   "execution_count": 4,
   "metadata": {},
   "outputs": [
    {
     "name": "stdout",
     "output_type": "stream",
     "text": [
      "Enter the comma separated numbers:10,30,40,50\n",
      "['10', '30', '40', '50']\n"
     ]
    },
    {
     "data": {
      "text/plain": [
       "['10', '30', '40', '50']"
      ]
     },
     "execution_count": 4,
     "metadata": {},
     "output_type": "execute_result"
    }
   ],
   "source": [
    "val = input(\"Enter the comma separated numbers:\")\n",
    "even_list = (num for num in val.split(','))\n",
    "print(list(even_list))\n",
    "\n",
    "#OR\n",
    "val.split(',')"
   ]
  },
  {
   "cell_type": "markdown",
   "metadata": {},
   "source": [
    "Create the below pattern using nested for loop in Python.\n"
   ]
  },
  {
   "cell_type": "raw",
   "metadata": {},
   "source": [
    "*\n",
    "**\n",
    "***\n",
    "****\n",
    "*****\n",
    "****\n",
    "***\n",
    "**\n",
    "*"
   ]
  },
  {
   "cell_type": "code",
   "execution_count": 5,
   "metadata": {
    "scrolled": true
   },
   "outputs": [
    {
     "name": "stdout",
     "output_type": "stream",
     "text": [
      "*\r\n",
      "**\r\n",
      "***\r\n",
      "****\r\n",
      "*****\r\n",
      "****\r\n",
      "***\r\n",
      "**\r\n",
      "*\r\n",
      "\r\n",
      "\r\n"
     ]
    }
   ],
   "source": [
    "for i in range(0, 5):\n",
    "    for j in range(0, i+1):\n",
    "        print(\"*\", end = \"\")\n",
    "    print(\"\\r\")\n",
    "num = 4\n",
    "for k in range(0, 5):\n",
    "    for l in range(0, k-1):\n",
    "        print(\"*\" * num, end = \"\")\n",
    "        num = num - 1\n",
    "        print(\"\\r\")\n"
   ]
  },
  {
   "cell_type": "markdown",
   "metadata": {},
   "source": [
    "Write a Python program to reverse a word after accepting the input from the user\n",
    "Sample Output:\n",
    "Input word: AcadGild\n",
    "Output: dilGdacA"
   ]
  },
  {
   "cell_type": "code",
   "execution_count": 6,
   "metadata": {},
   "outputs": [
    {
     "name": "stdout",
     "output_type": "stream",
     "text": [
      "Enter choice of keywordsHerewego\n"
     ]
    },
    {
     "data": {
      "text/plain": [
       "'ogewereH'"
      ]
     },
     "execution_count": 6,
     "metadata": {},
     "output_type": "execute_result"
    }
   ],
   "source": [
    "input(\"Enter choice of keywords\")[::-1]"
   ]
  },
  {
   "cell_type": "markdown",
   "metadata": {},
   "source": [
    "Write a Python Program to print the given string in the format specified in the sample output.\n",
    "WE, THE PEOPLE OF INDIA, having solemnly resolved to constitute India into a\n",
    "SOVEREIGN, SOCIALIST, SECULAR, DEMOCRATIC REPUBLIC and to secure to all\n",
    "its citizens\n",
    "\n",
    "Sample Output:\n",
    "\n",
    "WE, THE PEOPLE OF INDIA,\n",
    "having solemnly resolved to constitute India into a SOVEREIGN, !\n",
    "SOCIALIST, SECULAR, DEMOCRATIC REPUBLIC\n",
    "and to secure to all its citizens"
   ]
  },
  {
   "cell_type": "code",
   "execution_count": 7,
   "metadata": {},
   "outputs": [
    {
     "name": "stdout",
     "output_type": "stream",
     "text": [
      "WE, THE PEOPLE OF INDIA, \n",
      "having solemnly resolved to constitute India into a SOVEREIGN, ! \n",
      "SOCIALIST, SECULAR, DEMOCRATIC REPUBLIC \n",
      "and to secure to all its citizens\n"
     ]
    }
   ],
   "source": [
    "print(\"WE, THE PEOPLE OF INDIA, \\nhaving solemnly resolved to constitute India into a SOVEREIGN, {} \\nSOCIALIST, SECULAR, DEMOCRATIC REPUBLIC \\nand to secure to all its citizens\".format('!'))"
   ]
  },
  {
   "cell_type": "markdown",
   "metadata": {},
   "source": [
    "Write a Python Program to implement your own myreduce() function which works exactly like\n",
    "\\tPython's built-in function reduce()"
   ]
  },
  {
   "cell_type": "code",
   "execution_count": 8,
   "metadata": {},
   "outputs": [],
   "source": [
    "def myreduce(func, seq):\n",
    "    var = seq[0]\n",
    "    for i in seq[1:]:\n",
    "        var = func(var, i)\n",
    "    return var"
   ]
  },
  {
   "cell_type": "code",
   "execution_count": 9,
   "metadata": {},
   "outputs": [
    {
     "data": {
      "text/plain": [
       "55"
      ]
     },
     "execution_count": 9,
     "metadata": {},
     "output_type": "execute_result"
    }
   ],
   "source": [
    "\n",
    "myreduce(lambda x,y: x + y, [1, 2, 3, 4, 5, 6, 7, 8, 9, 10])"
   ]
  },
  {
   "cell_type": "markdown",
   "metadata": {},
   "source": [
    "Write a Python program to implement your own myfilter() function which works exactly like\n",
    "Python's built-in function filter()"
   ]
  },
  {
   "cell_type": "code",
   "execution_count": 10,
   "metadata": {},
   "outputs": [],
   "source": [
    "def myfilter(func, seq):\n",
    "    first = []\n",
    "    for i in seq:\n",
    "        i = func(i)\n",
    "        if func(i) is True:\n",
    "            first.append(i)\n",
    "    print(first)"
   ]
  },
  {
   "cell_type": "code",
   "execution_count": 11,
   "metadata": {},
   "outputs": [
    {
     "name": "stdout",
     "output_type": "stream",
     "text": [
      "[False, False, False, False, False]\n"
     ]
    }
   ],
   "source": [
    "myfilter(lambda x: (x%2 == 0), range(10) )"
   ]
  },
  {
   "cell_type": "markdown",
   "metadata": {},
   "source": [
    "Implement List comprehensions to produce the following lists.\n",
    "Write List comprehensions to produce the following Lists\n",
    "\n",
    "['A', 'C', 'A', 'D', 'G', 'I', ’L’, ‘ D’]\n",
    "\n",
    "['x', 'xx', 'xxx', 'xxxx', 'y', 'yy', 'yyy', 'yyyy', 'z', 'zz', 'zzz', 'zzzz']\n",
    "\n",
    "['x', 'y', 'z', 'xx', 'yy', 'zz', 'xx', 'yy', 'zz', 'xxxx', 'yyyy', 'zzzz']\n",
    "\n",
    "[[2], [3], [4], [3], [4], [5], [4], [5], [6]]\n",
    "\n",
    "[[2, 3, 4, 5], [3, 4, 5, 6], [4, 5, 6, 7], [5, 6, 7, 8]]\n",
    "\n",
    "[(1, 1), (2, 1), (3, 1), (1, 2), (2, 2), (3, 2), (1, 3), (2, 3), (3, 3)]"
   ]
  },
  {
   "cell_type": "code",
   "execution_count": 12,
   "metadata": {},
   "outputs": [
    {
     "data": {
      "text/plain": [
       "['A', 'C', 'A', 'D', 'G', 'I', 'L', 'D']"
      ]
     },
     "execution_count": 12,
     "metadata": {},
     "output_type": "execute_result"
    }
   ],
   "source": [
    "[i for i in \"acadgild\".upper()]"
   ]
  },
  {
   "cell_type": "code",
   "execution_count": 13,
   "metadata": {},
   "outputs": [
    {
     "data": {
      "text/plain": [
       "['x', 'xx', 'xxx', 'xxxx', 'y', 'yy', 'yyy', 'yyyy', 'z', 'zz', 'zzz', 'zzzz']"
      ]
     },
     "execution_count": 13,
     "metadata": {},
     "output_type": "execute_result"
    }
   ],
   "source": [
    "[n*m  for n in 'xyz' for m in range(1, 5)]"
   ]
  },
  {
   "cell_type": "code",
   "execution_count": 14,
   "metadata": {},
   "outputs": [
    {
     "data": {
      "text/plain": [
       "['x', 'y', 'z', 'xx', 'yy', 'zz', 'xxx', 'yyy', 'zzz', 'xxxx', 'yyyy', 'zzzz']"
      ]
     },
     "execution_count": 14,
     "metadata": {},
     "output_type": "execute_result"
    }
   ],
   "source": [
    "[n*m for m in range(1, 5) for n in 'xyz']"
   ]
  },
  {
   "cell_type": "code",
   "execution_count": 15,
   "metadata": {},
   "outputs": [
    {
     "data": {
      "text/plain": [
       "[[2], [3], [4], [3], [4], [5], [4], [5], [6]]"
      ]
     },
     "execution_count": 15,
     "metadata": {},
     "output_type": "execute_result"
    }
   ],
   "source": [
    "[[m+n] for m in range(1, 4) for n in range(1, 4)]"
   ]
  },
  {
   "cell_type": "code",
   "execution_count": 16,
   "metadata": {},
   "outputs": [
    {
     "data": {
      "text/plain": [
       "[[2, 3, 4, 5], [3, 4, 5, 6], [4, 5, 6, 7], [5, 6, 7, 8]]"
      ]
     },
     "execution_count": 16,
     "metadata": {},
     "output_type": "execute_result"
    }
   ],
   "source": [
    "[[m+n for m in range(1, 5)] for n in range(1, 5)]"
   ]
  },
  {
   "cell_type": "code",
   "execution_count": 17,
   "metadata": {},
   "outputs": [
    {
     "data": {
      "text/plain": [
       "[(1, 1), (2, 1), (3, 1), (1, 2), (2, 2), (3, 2), (1, 3), (2, 3), (3, 3)]"
      ]
     },
     "execution_count": 17,
     "metadata": {},
     "output_type": "execute_result"
    }
   ],
   "source": [
    "[(num2, num1) for num1 in range(1, 4) for num2 in range(1, 4)]"
   ]
  },
  {
   "cell_type": "markdown",
   "metadata": {},
   "source": [
    "Implement a function longestWord() that takes a list of words and returns the longest one."
   ]
  },
  {
   "cell_type": "code",
   "execution_count": 18,
   "metadata": {},
   "outputs": [
    {
     "name": "stdout",
     "output_type": "stream",
     "text": [
      "Enter the statement of your choice: This program gives the largest word from sentence \n",
      "The longest word in the statement is: sentence\n"
     ]
    }
   ],
   "source": [
    "def longestWord():\n",
    "    statement = input(\"Enter the statement of your choice: \")\n",
    "    new_string = statement.split(' ')\n",
    "    sorted_str = sorted(new_string, key=len)\n",
    "    print(\"The longest word in the statement is: \" + sorted_str[-1])\n",
    "    \n",
    "longestWord()"
   ]
  },
  {
   "cell_type": "code",
   "execution_count": 19,
   "metadata": {},
   "outputs": [
    {
     "data": {
      "text/plain": [
       "'pragramm'"
      ]
     },
     "execution_count": 19,
     "metadata": {},
     "output_type": "execute_result"
    }
   ],
   "source": [
    "def longWord(*args):\n",
    "    \"\"\"This function takes words as a string as an argument \n",
    "    and return the longest word from the arguments passed\"\"\"\n",
    "    \n",
    "    longest_word = []\n",
    "    for word in args:\n",
    "        if len(word) > len(longest_word):\n",
    "            longest_word = word\n",
    "    return longest_word\n",
    "\n",
    "longWord('this', 'pragramm', 'is', 'for', 'long', 'word')"
   ]
  },
  {
   "cell_type": "markdown",
   "metadata": {},
   "source": [
    "Write a Python Program(with class concepts) to find the area of the triangle using the below\n",
    "formula.\n",
    "\n",
    "area = (s*(s-a)*(s-b)*(s-c)) ** 0.5\n",
    "\n",
    "Function to take the length of the sides of triangle from user should be defined in the parent\n",
    "class and function to calculate the area should be defined in subclass."
   ]
  },
  {
   "cell_type": "code",
   "execution_count": 20,
   "metadata": {},
   "outputs": [],
   "source": [
    "class Triangle():\n",
    "    \n",
    "    def __init__(self, side1, side2, side3):\n",
    "        self.side1 = side1\n",
    "        self.side2 = side2\n",
    "        self.side3 = side3\n",
    "\n",
    "class Area(Triangle):\n",
    "    \n",
    "    def __init__(self, side1, side2, side3):\n",
    "        Triangle.__init__(self, side1, side2, side3)\n",
    "    \n",
    "    def area(self):\n",
    "        s = (self.side1 + self.side2 + self.side3) / 2\n",
    "        AreaOfTriangle =  (s * (s - self.side1) * (s - self.side2) * (s - self.side3)) ** 0.5\n",
    "        return AreaOfTriangle"
   ]
  },
  {
   "cell_type": "code",
   "execution_count": 21,
   "metadata": {},
   "outputs": [],
   "source": [
    "trianglearea = Area(5,6,7)"
   ]
  },
  {
   "cell_type": "code",
   "execution_count": 22,
   "metadata": {},
   "outputs": [
    {
     "data": {
      "text/plain": [
       "14.696938456699069"
      ]
     },
     "execution_count": 22,
     "metadata": {},
     "output_type": "execute_result"
    }
   ],
   "source": [
    "trianglearea.area()"
   ]
  },
  {
   "cell_type": "code",
   "execution_count": 23,
   "metadata": {},
   "outputs": [],
   "source": [
    "class Triangle():\n",
    "    \n",
    "    def __init__(self, side1, side2, side3):\n",
    "        self.side1 = side1\n",
    "        self.side2 = side2\n",
    "        self.side3 = side3\n",
    "\n",
    "    def area(self):\n",
    "        s = (self.side1 + self.side2 + self.side3) / 2\n",
    "        AreaOfTriangle =  s * (s - self.side1) * (s - self.side2) * (s - self.side3) ** 0.5\n",
    "        return AreaOfTriangle"
   ]
  },
  {
   "cell_type": "code",
   "execution_count": 24,
   "metadata": {},
   "outputs": [],
   "source": [
    "AreasofAngles = Triangle(5,6,7)"
   ]
  },
  {
   "cell_type": "code",
   "execution_count": 25,
   "metadata": {},
   "outputs": [
    {
     "data": {
      "text/plain": [
       "152.73506473629428"
      ]
     },
     "execution_count": 25,
     "metadata": {},
     "output_type": "execute_result"
    }
   ],
   "source": [
    "AreasofAngles.area()"
   ]
  },
  {
   "cell_type": "markdown",
   "metadata": {},
   "source": [
    "Write a function filter_long_words() that takes a list of words and an integer n and returns the list\n",
    "of words that are longer than n."
   ]
  },
  {
   "cell_type": "code",
   "execution_count": 27,
   "metadata": {},
   "outputs": [
    {
     "name": "stdout",
     "output_type": "stream",
     "text": [
      "Enter the statement of your choice: Pythons is the intersting language\n",
      "Enter the number: 3\n",
      "Pythons\n",
      "language\n",
      "intersting\n"
     ]
    }
   ],
   "source": [
    "def longword():\n",
    "    statement = str(input(\"Enter the statement of your choice: \"))\n",
    "    number = int(input(\"Enter the number: \"))\n",
    "    new_string = statement.split(' ')\n",
    "    for i in sorted(new_string, key=len):\n",
    "        if len(i) > number:\n",
    "            print(i)\n",
    "    \n",
    "longword()"
   ]
  },
  {
   "cell_type": "markdown",
   "metadata": {},
   "source": [
    "Write a Python program using function concept that maps list of words into a list of integers\n",
    "representing the lengths of the corresponding words.\n",
    "\n",
    "Hint: ​If a list [ ab,cde,erty] is passed on to the python function output should come as [2,3,4]\n",
    "    \n",
    "Here 2,3 and 4 are the lengths of the words in the list."
   ]
  },
  {
   "cell_type": "code",
   "execution_count": 28,
   "metadata": {},
   "outputs": [
    {
     "data": {
      "text/plain": [
       "[2, 3, 4]"
      ]
     },
     "execution_count": 28,
     "metadata": {},
     "output_type": "execute_result"
    }
   ],
   "source": [
    "lists = [ 'ab', 'cde', 'erty']\n",
    "def word_len():\n",
    "    new_lists = []\n",
    "    for i in lists:\n",
    "        j = len(i)\n",
    "        new_list = new_lists.append(j)\n",
    "    return new_lists\n",
    "\n",
    "word_len()"
   ]
  },
  {
   "cell_type": "markdown",
   "metadata": {},
   "source": [
    "Write a Python function which takes a character (i.e. a string of length 1) and returns True if it is\n",
    "a vowel, False otherwise.\n",
    "\n",
    "NOTE:​ ​The​ ​solution​ ​shared​ ​through​ ​Github​ ​should​ ​contain​ ​the​ ​source code​ ​used​ ​ and​\n",
    "​the​ ​screenshot​ ​of​ ​the​ ​output."
   ]
  },
  {
   "cell_type": "code",
   "execution_count": 29,
   "metadata": {},
   "outputs": [
    {
     "name": "stdout",
     "output_type": "stream",
     "text": [
      "Enter a single alphabet: y\n"
     ]
    },
    {
     "data": {
      "text/plain": [
       "False"
      ]
     },
     "execution_count": 29,
     "metadata": {},
     "output_type": "execute_result"
    }
   ],
   "source": [
    "def getvowel():\n",
    "    get_word = input(\"Enter a single alphabet: \")\n",
    "    vowels = ['a', 'e', 'i', 'o', 'u']\n",
    "    if get_word in vowels:\n",
    "        return True\n",
    "    else:\n",
    "        return False\n",
    "    \n",
    "\n",
    "getvowel()"
   ]
  },
  {
   "cell_type": "markdown",
   "metadata": {},
   "source": [
    "Write a function to compute 5/0 and use try/except to catch the exceptions."
   ]
  },
  {
   "cell_type": "code",
   "execution_count": 30,
   "metadata": {},
   "outputs": [
    {
     "name": "stdout",
     "output_type": "stream",
     "text": [
      "Enter a integer num1 : 23\n",
      "Enter a integer num2 : 45\n"
     ]
    },
    {
     "data": {
      "text/plain": [
       "0.5111111111111111"
      ]
     },
     "execution_count": 30,
     "metadata": {},
     "output_type": "execute_result"
    }
   ],
   "source": [
    "def trycatch():\n",
    "    num1 = int(input(\"Enter a integer num1 : \"))\n",
    "    num2 = int(input(\"Enter a integer num2 : \"))\n",
    "#    if num1 < 0:\n",
    "#        raise ValueError(\"A number1 must be non-negetive\")\n",
    "#    if num2 < 0:\n",
    "#        raise ValueError(\"A number1 must be non-negetive\")\n",
    "    try:\n",
    "        return num1 / num2\n",
    "    except :\n",
    "            print(\"A number2 must be nonzero\")\n",
    "\n",
    "trycatch()"
   ]
  },
  {
   "cell_type": "markdown",
   "metadata": {},
   "source": [
    "Implement a Python program to generate all sentences where subject is in [\"Americans\",\n",
    "\"Indians\"] and verb is in [\"Play\", \"watch\"] and the object is in [\"Baseball\",\"cricket\"].\n",
    "\n",
    "Hint: Subject,Verb and Object should be declared in the program as shown below.\n",
    "    \n",
    "subjects=[\"Americans \",\"Indians\"]\n",
    "verbs=[\"play\",\"watch\"]\n",
    "objects=[\"Baseball\",\"Cricket\"]\n",
    "\n",
    "Output should come as below:\n",
    "    \n",
    "Americans play Baseball.\n",
    "Americans play Cricket.\n",
    "Americans watch Baseball.\n",
    "Americans watch Cricket.\n",
    "Indians play Baseball.\n",
    "Indians play Cricket.\n",
    "Indians watch Baseball.\n",
    "Indians watch Cricket."
   ]
  },
  {
   "cell_type": "code",
   "execution_count": 31,
   "metadata": {},
   "outputs": [
    {
     "name": "stdout",
     "output_type": "stream",
     "text": [
      "Americans  play Baseball\n",
      "Americans  play Cricket\n",
      "Americans  watch Baseball\n",
      "Americans  watch Cricket\n",
      "Indians play Baseball\n",
      "Indians play Cricket\n",
      "Indians watch Baseball\n",
      "Indians watch Cricket\n"
     ]
    }
   ],
   "source": [
    "subjects=[\"Americans \",\"Indians\"] \n",
    "verbs=[\"play\",\"watch\"] \n",
    "objects=[\"Baseball\",\"Cricket\"]\n",
    "\n",
    "for i in subjects:\n",
    "    for j in verbs:\n",
    "        for k in objects:\n",
    "            print(i + ' ' + j + ' ' + k)"
   ]
  },
  {
   "cell_type": "code",
   "execution_count": 32,
   "metadata": {},
   "outputs": [
    {
     "name": "stdout",
     "output_type": "stream",
     "text": [
      "Americans  play Baseball\n",
      "Americans  play Cricket\n",
      "Americans  watch Baseball\n",
      "Americans  watch Cricket\n",
      "Indians play Baseball\n",
      "Indians play Cricket\n",
      "Indians watch Baseball\n",
      "Indians watch Cricket\n"
     ]
    }
   ],
   "source": [
    "a = [i+' '+j+' '+k for i in [\"Americans \",\"Indians\"] for j in [\"play\",\"watch\"] for k in [\"Baseball\",\"Cricket\"] ]\n",
    "for i in a : print(i)"
   ]
  },
  {
   "cell_type": "markdown",
   "metadata": {},
   "source": [
    "Write a function so that the columns of the output matrix are powers of the input vector.\n",
    "The order of the powers is determined by the increasing boolean argument. Specifically, when\n",
    "increasing is False, the i-th output column is the input vector raised element-wise to the power\n",
    "of N - i - 1.\n",
    "\n",
    "\n",
    "HINT: Such a matrix with a geometric progression in each row is named for Alexandre-\n",
    "Theophile Vandermonde.\n",
    "\n",
    "\n",
    "NOTE:​ ​The​ ​solution​ ​shared​ ​through​ ​Github​ ​should​ ​contain​ ​the​ ​source code​ ​used​ ​and​ ​the​\n",
    "​screenshot​ ​of​ ​the​ ​output."
   ]
  },
  {
   "cell_type": "code",
   "execution_count": 33,
   "metadata": {},
   "outputs": [
    {
     "name": "stdout",
     "output_type": "stream",
     "text": [
      "1\t 1\t 1\t 1\t \n",
      "2\t 4\t 8\t 16\t \n",
      "3\t 9\t 27\t 81\t \n",
      "4\t 16\t 64\t 256\t \n"
     ]
    }
   ],
   "source": [
    "def powerofinput():\n",
    "\n",
    "    for i in range(1, 5):\n",
    "        for j in range(1, 5):\n",
    "            print(i**j, end='\\t ')\n",
    "        print(end ='\\n')\n",
    "            \n",
    "\n",
    "powerofinput()"
   ]
  },
  {
   "cell_type": "markdown",
   "metadata": {},
   "source": [
    "Write a function to find moving average in an array over a window:\n",
    "Test it over [3, 5, 7, 2, 8, 10, 11, 65, 72, 81, 99, 100, 150] and window of 3."
   ]
  },
  {
   "cell_type": "code",
   "execution_count": 34,
   "metadata": {},
   "outputs": [
    {
     "data": {
      "text/plain": [
       "[5.0,\n",
       " 4.666666666666667,\n",
       " 5.666666666666667,\n",
       " 6.666666666666667,\n",
       " 9.666666666666666,\n",
       " 28.666666666666668,\n",
       " 49.333333333333336,\n",
       " 72.66666666666667,\n",
       " 84.0,\n",
       " 93.33333333333333,\n",
       " 116.33333333333333]"
      ]
     },
     "execution_count": 34,
     "metadata": {},
     "output_type": "execute_result"
    }
   ],
   "source": [
    "lists = [3, 5, 7, 2, 8, 10, 11, 65, 72, 81, 99, 100, 150]\n",
    "\n",
    "def mov_avg():\n",
    "    N = 3\n",
    "    initial, moving_average = [0], []\n",
    "    \n",
    "    for i, x in enumerate(lists, 1):\n",
    "        initial.append(initial[i-1] + x)\n",
    "        if i>=N:\n",
    "            movingavg = (initial[i] - initial[i-N])/N\n",
    "            moving_average.append(movingavg)\n",
    "    return moving_average\n",
    "\n",
    "mov_avg()"
   ]
  },
  {
   "cell_type": "markdown",
   "metadata": {},
   "source": [
    "Average For each calendar month"
   ]
  },
  {
   "cell_type": "code",
   "execution_count": 35,
   "metadata": {},
   "outputs": [
    {
     "name": "stdout",
     "output_type": "stream",
     "text": [
      "Enter year of your choice: 2018\n",
      "Enter month of your choice: 2\n",
      "Average of month is: 14.0\n"
     ]
    }
   ],
   "source": [
    "import calendar\n",
    "#cal1 = calendar.TextCalendar(calendar.SUNDAY)\n",
    "year = int(input(\"Enter year of your choice: \"))\n",
    "month = int(input(\"Enter month of your choice: \"))\n",
    "days = calendar.monthrange(year, month)\n",
    "lastday  = days[-1]\n",
    "avgmonth = lastday / 2\n",
    "print(\"Average of month is: \" + str(avgmonth))"
   ]
  }
 ],
 "metadata": {
  "kernelspec": {
   "display_name": "Python 3",
   "language": "python",
   "name": "python3"
  },
  "language_info": {
   "codemirror_mode": {
    "name": "ipython",
    "version": 3
   },
   "file_extension": ".py",
   "mimetype": "text/x-python",
   "name": "python",
   "nbconvert_exporter": "python",
   "pygments_lexer": "ipython3",
   "version": "3.7.0"
  }
 },
 "nbformat": 4,
 "nbformat_minor": 2
}
